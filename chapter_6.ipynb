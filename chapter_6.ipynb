{
 "cells": [
  {
   "cell_type": "markdown",
   "metadata": {},
   "source": [
    "### Layers and Modules"
   ]
  },
  {
   "cell_type": "code",
   "execution_count": 1,
   "metadata": {},
   "outputs": [],
   "source": [
    "import tensorflow as tf"
   ]
  },
  {
   "cell_type": "code",
   "execution_count": 2,
   "metadata": {},
   "outputs": [],
   "source": [
    "class MLP(tf.keras.Model):\n",
    "  def __init__(self):\n",
    "    super().__init__()\n",
    "    self.hidden = tf.keras.layers.Dense(units=256, activation=tf.nn.relu)\n",
    "    self.out = tf.keras.layers.Dense(units=10)\n",
    "\n",
    "  def call(self, X):\n",
    "    return self.out(self.hidden(X))"
   ]
  },
  {
   "cell_type": "code",
   "execution_count": 4,
   "metadata": {},
   "outputs": [
    {
     "data": {
      "text/plain": [
       "TensorShape([2, 10])"
      ]
     },
     "execution_count": 4,
     "metadata": {},
     "output_type": "execute_result"
    }
   ],
   "source": [
    "X = tf.random.uniform(shape=(2, 20))\n",
    "net = MLP()\n",
    "net(X).shape"
   ]
  },
  {
   "cell_type": "code",
   "execution_count": 5,
   "metadata": {},
   "outputs": [],
   "source": [
    "class MySequential(tf.keras.Model):\n",
    "  def __init__(self, *args):\n",
    "    super().__init__()\n",
    "    self.modules = args\n",
    "\n",
    "  def call(self, X):\n",
    "    for module in self.modules:\n",
    "      X = module(X)\n",
    "    return X"
   ]
  },
  {
   "cell_type": "code",
   "execution_count": 7,
   "metadata": {},
   "outputs": [
    {
     "data": {
      "text/plain": [
       "TensorShape([2, 10])"
      ]
     },
     "execution_count": 7,
     "metadata": {},
     "output_type": "execute_result"
    }
   ],
   "source": [
    "net = MySequential(\n",
    "  tf.keras.layers.Dense(units=256, activation=tf.nn.relu),\n",
    "  tf.keras.layers.Dense(10)\n",
    ")\n",
    "net(X).shape"
   ]
  },
  {
   "cell_type": "code",
   "execution_count": 10,
   "metadata": {},
   "outputs": [],
   "source": [
    "class FixedHiddenMLP(tf.keras.Model):\n",
    "  def __init__(self):\n",
    "    super().__init__()\n",
    "    self.flatten = tf.keras.layers.Flatten()\n",
    "    self.rand_weight = tf.constant(tf.random.uniform(shape=(20, 20)))\n",
    "    self.dense = tf.keras.layers.Dense(units=20, activation=tf.nn.relu)\n",
    "  \n",
    "  def call(self, inputs):\n",
    "    X = self.flatten(inputs)\n",
    "    X = tf.nn.relu(tf.matmul(X, self.rand_weight) + 1)\n",
    "    X = self.dense(X)\n",
    "    while tf.reduce_sum(tf.math.abs(X)) > 0:\n",
    "      X /= 2\n",
    "    return tf.reduce_sum(X)\n"
   ]
  },
  {
   "cell_type": "code",
   "execution_count": 11,
   "metadata": {},
   "outputs": [
    {
     "data": {
      "text/plain": [
       "<tf.Tensor: shape=(), dtype=float32, numpy=0.0>"
      ]
     },
     "execution_count": 11,
     "metadata": {},
     "output_type": "execute_result"
    }
   ],
   "source": [
    "net = FixedHiddenMLP()\n",
    "net(X)"
   ]
  },
  {
   "cell_type": "markdown",
   "metadata": {},
   "source": [
    "## Custom Layers"
   ]
  },
  {
   "cell_type": "code",
   "execution_count": 12,
   "metadata": {},
   "outputs": [],
   "source": [
    "class Dense(tf.keras.Model):\n",
    "  def __init__(self, units):\n",
    "    super().__init__()\n",
    "    self.units = units\n",
    "\n",
    "  def build(self, X_shape):\n",
    "    self.weight = self.add_weight(name='weight', shape=[X_shape[-1], self.units], \n",
    "                                  initializer=tf.random_normal_initializer())\n",
    "    self.bias = self.add_weight(name='bias', shape=[self.units], \n",
    "                                  initializer =tf.zeros_initializer())\n",
    "  \n",
    "  def call(self, X):\n",
    "    linear = tf.matmul(X, self.weight) + self.bias\n",
    "    return tf.nn.relu(linear)"
   ]
  },
  {
   "cell_type": "code",
   "execution_count": 13,
   "metadata": {},
   "outputs": [
    {
     "data": {
      "text/plain": [
       "[array([[ 0.03132886, -0.00031938, -0.01998461],\n",
       "        [ 0.02141164, -0.0212354 , -0.01568849],\n",
       "        [-0.08186897, -0.01432206, -0.07969992],\n",
       "        [-0.03044837,  0.02433801,  0.00246944],\n",
       "        [ 0.00528436, -0.03039438,  0.01373704]], dtype=float32),\n",
       " array([0., 0., 0.], dtype=float32)]"
      ]
     },
     "execution_count": 13,
     "metadata": {},
     "output_type": "execute_result"
    }
   ],
   "source": [
    "dense = Dense(3)\n",
    "dense(tf.random.uniform((2, 5)))\n",
    "dense.get_weights()"
   ]
  },
  {
   "cell_type": "code",
   "execution_count": 14,
   "metadata": {},
   "outputs": [
    {
     "data": {
      "text/plain": [
       "<tf.Tensor: shape=(2, 1), dtype=float32, numpy=\n",
       "array([[0.],\n",
       "       [0.]], dtype=float32)>"
      ]
     },
     "execution_count": 14,
     "metadata": {},
     "output_type": "execute_result"
    }
   ],
   "source": [
    "net = tf.keras.models.Sequential([Dense(8), Dense(1)])\n",
    "net(tf.random.uniform(shape=(2, 64)))"
   ]
  },
  {
   "cell_type": "code",
   "execution_count": 15,
   "metadata": {},
   "outputs": [],
   "source": [
    "class MLP(tf.keras.Model):\n",
    "  def __init__(self):\n",
    "    super().__init__()\n",
    "    self.flatten = tf.keras.layers.Flatten()\n",
    "    self.hidden = Dense(units=256)\n",
    "    self.out = tf.keras.layers.Dense(units=10)\n",
    "\n",
    "  def call(self, inputs):\n",
    "    x = self.flatten(inputs)\n",
    "    x = self.hidden(x)\n",
    "    return self.out(x)\n",
    "  \n",
    "net = MLP()\n",
    "X = tf.random.uniform(shape=(2, 20))\n",
    "Y = net(X)"
   ]
  },
  {
   "cell_type": "code",
   "execution_count": 16,
   "metadata": {},
   "outputs": [],
   "source": [
    "net.save_weights('mlp.params')"
   ]
  },
  {
   "cell_type": "code",
   "execution_count": 17,
   "metadata": {},
   "outputs": [
    {
     "data": {
      "text/plain": [
       "<tensorflow.python.checkpoint.checkpoint.CheckpointLoadStatus at 0x321922c70>"
      ]
     },
     "execution_count": 17,
     "metadata": {},
     "output_type": "execute_result"
    }
   ],
   "source": [
    "clone = MLP()\n",
    "clone.load_weights('mlp.params')"
   ]
  },
  {
   "cell_type": "code",
   "execution_count": null,
   "metadata": {},
   "outputs": [],
   "source": []
  }
 ],
 "metadata": {
  "kernelspec": {
   "display_name": "d2l",
   "language": "python",
   "name": "python3"
  },
  "language_info": {
   "codemirror_mode": {
    "name": "ipython",
    "version": 3
   },
   "file_extension": ".py",
   "mimetype": "text/x-python",
   "name": "python",
   "nbconvert_exporter": "python",
   "pygments_lexer": "ipython3",
   "version": "3.9.21"
  }
 },
 "nbformat": 4,
 "nbformat_minor": 2
}
